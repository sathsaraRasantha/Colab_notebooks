{
  "nbformat": 4,
  "nbformat_minor": 0,
  "metadata": {
    "colab": {
      "name": "CoderByte_Assesment.ipynb",
      "provenance": [],
      "authorship_tag": "ABX9TyMtXav/o4SMh8h7TXLK8yaq",
      "include_colab_link": true
    },
    "kernelspec": {
      "name": "python3",
      "display_name": "Python 3"
    }
  },
  "cells": [
    {
      "cell_type": "markdown",
      "metadata": {
        "id": "view-in-github",
        "colab_type": "text"
      },
      "source": [
        "<a href=\"https://colab.research.google.com/github/sathsaraRasantha/Colab_notebooks/blob/main/CoderByte_Assesment.ipynb\" target=\"_parent\"><img src=\"https://colab.research.google.com/assets/colab-badge.svg\" alt=\"Open In Colab\"/></a>"
      ]
    },
    {
      "cell_type": "code",
      "metadata": {
        "id": "dDSKkVtEZb84",
        "outputId": "01ef7527-a3d0-4bd3-fb09-cbc73a5b8d69",
        "colab": {
          "base_uri": "https://localhost:8080/"
        }
      },
      "source": [
        "arr=[2,3,4,5,18]\n",
        "a=max(arr)\n",
        "a\n",
        "arr.remove(a)\n",
        "arr"
      ],
      "execution_count": 5,
      "outputs": [
        {
          "output_type": "execute_result",
          "data": {
            "text/plain": [
              "[2, 3, 4, 5]"
            ]
          },
          "metadata": {
            "tags": []
          },
          "execution_count": 5
        }
      ]
    },
    {
      "cell_type": "code",
      "metadata": {
        "id": "LeacShCzfy4c"
      },
      "source": [
        "def longestPalSubstr(string): \n",
        "    maxLength = 1\n",
        "  \n",
        "    start = 0\n",
        "    length = len(string) \n",
        "  \n",
        "    low = 0\n",
        "    high = 0\n",
        "\n",
        "    for i in range(1, length): \n",
        "      \n",
        "        low = i - 1\n",
        "        high = i \n",
        "        while low >= 0 and high < length and string[low] == string[high]: \n",
        "            if high - low + 1 > maxLength: \n",
        "                start = low \n",
        "                maxLength = high - low + 1\n",
        "            low -= 1\n",
        "            high += 1 \n",
        "\n",
        "        low = i - 1\n",
        "        high = i + 1\n",
        "        while low >= 0 and high < length and string[low] == string[high]: \n",
        "            if high - low + 1 > maxLength: \n",
        "                start = low \n",
        "                maxLength = high - low + 1\n",
        "            low -= 1\n",
        "            high += 1\n",
        "\n",
        "    palindrome=string[start:start + maxLength]\n",
        "\n",
        "    pal_length=len(palindrome)\n",
        "\n",
        "\n",
        "    if (pal_length>2):\n",
        "      output=palindrome\n",
        "    else:\n",
        "      output=None \n",
        "\n",
        "      \n",
        "    return output \n",
        "  "
      ],
      "execution_count": 17,
      "outputs": []
    },
    {
      "cell_type": "code",
      "metadata": {
        "id": "MZOCUtjJgQLO",
        "outputId": "a452fb71-2a88-4bac-afa6-0e4d3082be61",
        "colab": {
          "base_uri": "https://localhost:8080/"
        }
      },
      "source": [
        "string = \"sath\"\n",
        "print(\"Length is: \" + str(longestPalSubstr(string)) )"
      ],
      "execution_count": 20,
      "outputs": [
        {
          "output_type": "stream",
          "text": [
            "Length is: None\n"
          ],
          "name": "stdout"
        }
      ]
    },
    {
      "cell_type": "code",
      "metadata": {
        "id": "IGzGIa-kcd-o",
        "outputId": "a35810b9-18a3-425e-8fb1-c9375149be17",
        "colab": {
          "base_uri": "https://localhost:8080/"
        }
      },
      "source": [
        "def hasArrayTwoCandidates(A):\n",
        "     \n",
        "    # sort the array\n",
        "    \n",
        "    sum=max(A)\n",
        "    A.remove(sum)\n",
        "    arr_size=len(A)\n",
        "    quickSort(A, 0, arr_size-1)\n",
        "    l = 0\n",
        "    r = arr_size-1\n",
        "     \n",
        "    # traverse the array for the two elements\n",
        "    while l<r:\n",
        "        if (A[l] + A[r] == sum):\n",
        "            return 1\n",
        "        elif (A[l] + A[r] < sum):\n",
        "            l += 1\n",
        "        else:\n",
        "            r -= 1\n",
        "    return 0\n",
        " \n",
        "# Implementation of Quick Sort\n",
        "# A[] --> Array to be sorted\n",
        "# si  --> Starting index\n",
        "# ei  --> Ending index\n",
        "def quickSort(A, si, ei):\n",
        "    if si < ei:\n",
        "        pi = partition(A, si, ei)\n",
        "        quickSort(A, si, pi-1)\n",
        "        quickSort(A, pi + 1, ei)# Utility function for partitioning the array(used in quick sort)\n",
        "def partition(A, si, ei):\n",
        "    x = A[ei]\n",
        "    i = (si-1)\n",
        "    for j in range(si, ei):\n",
        "        if A[j] <= x:\n",
        "            i += 1\n",
        "             \n",
        "            # This operation is used to swap two variables is python\n",
        "            A[i], A[j] = A[j], A[i]\n",
        " \n",
        "        A[i + 1], A[ei] = A[ei], A[i + 1]\n",
        "         \n",
        "    return i + 1\n",
        "     \n",
        " \n",
        "# Driver program to test the functions\n",
        "A = [1, 4, 45, 6, 10, -8]\n",
        "\n",
        "if (hasArrayTwoCandidates(A)):\n",
        "    print(\"Array has two elements with the given sum\")\n",
        "else:\n",
        "    print(\"Array doesn't have two elements with the given sum\")"
      ],
      "execution_count": 10,
      "outputs": [
        {
          "output_type": "stream",
          "text": [
            "Array doesn't have two elements with the given sum\n"
          ],
          "name": "stdout"
        }
      ]
    },
    {
      "cell_type": "code",
      "metadata": {
        "id": "UM_hSBdtfpo5",
        "outputId": "d6a01704-d098-4507-cc91-cccae118f6a4",
        "colab": {
          "base_uri": "https://localhost:8080/"
        }
      },
      "source": [
        "def printPairs(arr):\n",
        " \n",
        "    # count = 0 \n",
        "    sum=arr[0]\n",
        "    arr.remove(sum)\n",
        "    n=len(arr)\n",
        "    # Consider all possible \n",
        "    # pairs and check their sums\n",
        "    printed=0\n",
        "    for i in range(0, n ):\n",
        "        \n",
        "        for j in range(i + 1, n ):\n",
        "            \n",
        "            if (arr[i] + arr[j] == sum):\n",
        "                printed=printed+1\n",
        "                print( arr[i],\",\",arr[j], end = \"  \")\n",
        "    return     \n",
        "    if (printed==0):\n",
        "      return -1\n",
        " \n",
        "# Driver Code\n",
        "arr = [7,3,4,2,5, 67,58]\n",
        "#n = len(arr)\n",
        "#sum = 6\n",
        "printPairs(arr)"
      ],
      "execution_count": 5,
      "outputs": [
        {
          "output_type": "stream",
          "text": [
            "3 , 4  2 , 5  "
          ],
          "name": "stdout"
        }
      ]
    },
    {
      "cell_type": "code",
      "metadata": {
        "id": "gZfXdpb27I0c",
        "outputId": "5b14fa76-cf7c-4243-d980-2c9e5221d0e4",
        "colab": {
          "base_uri": "https://localhost:8080/"
        }
      },
      "source": [
        "def ArrayChallenge(arr):\n",
        "  summ=arr[0]\n",
        "  arr.remove(summ)\n",
        "  n=len(arr)\n",
        "  printed=0\n",
        "  pairs=()\n",
        "  for i in range(0,n):\n",
        "    for j in range(i+1,n):\n",
        "      \n",
        "      if (arr[i]+arr[j]==summ):\n",
        "        \n",
        "        printed=printed+1\n",
        "        pairs=pairs+(arr[i],arr[j])\n",
        "  #mylist=' '.join(map(str,pairs))\n",
        "  return pairs\n",
        "  if(printed==0):\n",
        "    return -1\n",
        "\n",
        "# keep this function call here \n",
        "#print(ArrayChallenge(input()))\n",
        "ArrayChallenge([17, 4, 5, 6, 10, 11, 4, -3, -5, 3, 15, 2, 7])"
      ],
      "execution_count": 64,
      "outputs": [
        {
          "output_type": "execute_result",
          "data": {
            "text/plain": [
              "(6, 11, 10, 7, 15, 2)"
            ]
          },
          "metadata": {
            "tags": []
          },
          "execution_count": 64
        }
      ]
    },
    {
      "cell_type": "code",
      "metadata": {
        "id": "2U0JxGkqCsj4",
        "outputId": "cdd20fd7-4b7b-4d87-a4db-a8610de42c58",
        "colab": {
          "base_uri": "https://localhost:8080/"
        }
      },
      "source": [
        "MAX = 20\n",
        "  \n",
        "# Return the length of  \n",
        "# LIP in 2D matrix  \n",
        "def LIP(dp, mat, n, m, x, y):  \n",
        "      \n",
        "    # If value not calculated yet.  \n",
        "    if (dp[x][y] < 0):  \n",
        "        result = 0\n",
        "          \n",
        "        # If reach bottom left cell,  \n",
        "        # return 1.  \n",
        "        if (x == n - 1 and y == m - 1):  \n",
        "            dp[x][y] = 1\n",
        "            return dp[x][y]  \n",
        "  \n",
        "        # If reach the corner  \n",
        "        # of the matrix.  \n",
        "        if (x == n - 1 or y == m - 1):  \n",
        "            result = 1  # If value greater than below cell.  \n",
        "        if (x + 1 < n and mat[x][y] < mat[x + 1][y]):  \n",
        "            result = 1 + LIP(dp, mat, n,  \n",
        "                            m, x + 1, y)  \n",
        "  \n",
        "        # If value greater than left cell.  \n",
        "        if (y + 1 < m and mat[x][y] < mat[x][y + 1]):  \n",
        "            result = max(result, 1 + LIP(dp, mat, n,  \n",
        "                                        m, x, y + 1))  \n",
        "        dp[x][y] = result  \n",
        "    return dp[x][y]  \n",
        "  \n",
        "# Wrapper function  \n",
        "def wrapper(mat, n, m):  \n",
        "    dp = [[-1 for i in range(MAX)]  \n",
        "            for i in range(MAX)]  \n",
        "    return LIP(dp, mat, n, m, 0, 0)  \n",
        "  \n",
        "# Driver Code  \n",
        "mat = [[1, 2, 3, 4 ],  \n",
        "    [2, 2, 3, 4 ],  \n",
        "    [3, 2, 3, 4 ],  \n",
        "    [4, 5, 6, 7 ]]  \n",
        "n = 4\n",
        "m = 4\n",
        "print(wrapper(mat, n, m))  "
      ],
      "execution_count": 65,
      "outputs": [
        {
          "output_type": "stream",
          "text": [
            "7\n"
          ],
          "name": "stdout"
        }
      ]
    },
    {
      "cell_type": "code",
      "metadata": {
        "id": "EC9qiVirR9j8",
        "outputId": "7f182e1b-0f88-4847-a7d4-912c4b3fe2e5",
        "colab": {
          "base_uri": "https://localhost:8080/"
        }
      },
      "source": [
        "MAX=20\n",
        "def SearchingChallenge(strArr):\n",
        "  \n",
        "  # code goes here\n",
        "  import numpy \n",
        "  #list_of_lists=[]\n",
        "  #strArr=[\"1234\",\"1234\",\"1234\"]\n",
        "  x = strArr\n",
        "  y = [list(word) for word in strArr]\n",
        "\n",
        "  list_of_lists=[]\n",
        "  for lists in y:\n",
        "     lists= list(map(int, lists))\n",
        "     list_of_lists.append(lists)\n",
        "  \n",
        "  matrix=numpy.array(list_of_lists)\n",
        "  mxn=list(matrix.shape)\n",
        "  n=mxn[0]\n",
        "  m=mxn[1]\n",
        "  dp=[[-1 for i in range(MAX)] for i in range(MAX)]\n",
        "\n",
        "  def LIP(dp,matrix,n,m,x,y) :\n",
        "    if(dp[x][y]<0):\n",
        "      result=0\n",
        "\n",
        "      if(x==n-1 and y==m-1):\n",
        "        dp[x][y]=1\n",
        "        return dp[x][y]\n",
        "\n",
        "      if(x==n-1 or y==m-1):\n",
        "        result=1\n",
        "      if(x+1<n and matrix[x][y]<matrix[x+1][y]):\n",
        "        result=1+LIP(dp,matrix,n,m,x+1,y) \n",
        "\n",
        "      if(y+1<m and matrix[x][y]<matrix[x][y+1]):\n",
        "        result=max(result,1+LIP(dp,matrix,n,m,x,y+1))\n",
        "\n",
        "      dp[x][y]=result\n",
        "    return dp[x][y]\n",
        "\n",
        "  return LIP(dp,matrix,n,m,0,0)\n",
        "\n",
        "\n",
        "\n",
        "strArr=[\"67\", \"21\", \"45\"]\n",
        "SearchingChallenge(strArr)"
      ],
      "execution_count": 8,
      "outputs": [
        {
          "output_type": "execute_result",
          "data": {
            "text/plain": [
              "2"
            ]
          },
          "metadata": {
            "tags": []
          },
          "execution_count": 8
        }
      ]
    },
    {
      "cell_type": "code",
      "metadata": {
        "id": "Mg31ZuHExr5F",
        "outputId": "54dd0643-7896-4564-a8ac-04c93e62dc44",
        "colab": {
          "base_uri": "https://localhost:8080/"
        }
      },
      "source": [
        "strArr=[\"1234\",\"1234\",\"1234\"]\n",
        "x = strArr\n",
        "y = [list(word) for word in strArr]\n",
        "y\n",
        "arr=[]\n",
        "for lists in y:\n",
        "  lists= list(map(int, lists))\n",
        "  arr.append(lists)\n",
        "\n",
        "arr"
      ],
      "execution_count": 5,
      "outputs": [
        {
          "output_type": "execute_result",
          "data": {
            "text/plain": [
              "[[1, 2, 3, 4], [1, 2, 3, 4], [1, 2, 3, 4]]"
            ]
          },
          "metadata": {
            "tags": []
          },
          "execution_count": 5
        }
      ]
    },
    {
      "cell_type": "code",
      "metadata": {
        "id": "PxNa9XvMR-xf"
      },
      "source": [
        ""
      ],
      "execution_count": null,
      "outputs": []
    },
    {
      "cell_type": "code",
      "metadata": {
        "id": "S9BvykuMFGU_",
        "outputId": "4c5daaa1-f7e6-4b4c-8f98-cc24912e9a0c",
        "colab": {
          "base_uri": "https://localhost:8080/",
          "height": 231
        }
      },
      "source": [
        "import numpy as np\n",
        "arr=[\"1234\",\"2345\",\"5436\"]\n",
        "list_of_lists=[]\n",
        "desired_array = [int (numeric_string) for numeric_string in arr]\n",
        "desired_array\n",
        "for a in arr:\n",
        "    list_of_lists=list_of_lists+[[int(i) for i in desired_array(a)]]\n",
        "#for a in desired_array:\n",
        " # b=b +[[int(i) for i in str(a)]]\n",
        "  \n",
        "#b\n",
        "#matrix = np.array(b)\n",
        "#matrix"
      ],
      "execution_count": 28,
      "outputs": [
        {
          "output_type": "error",
          "ename": "TypeError",
          "evalue": "ignored",
          "traceback": [
            "\u001b[0;31m---------------------------------------------------------------------------\u001b[0m",
            "\u001b[0;31mTypeError\u001b[0m                                 Traceback (most recent call last)",
            "\u001b[0;32m<ipython-input-28-e5b16bc2af38>\u001b[0m in \u001b[0;36m<module>\u001b[0;34m()\u001b[0m\n\u001b[1;32m      5\u001b[0m \u001b[0mdesired_array\u001b[0m\u001b[0;34m\u001b[0m\u001b[0;34m\u001b[0m\u001b[0m\n\u001b[1;32m      6\u001b[0m \u001b[0;32mfor\u001b[0m \u001b[0ma\u001b[0m \u001b[0;32min\u001b[0m \u001b[0marr\u001b[0m\u001b[0;34m:\u001b[0m\u001b[0;34m\u001b[0m\u001b[0;34m\u001b[0m\u001b[0m\n\u001b[0;32m----> 7\u001b[0;31m     \u001b[0mlist_of_lists\u001b[0m\u001b[0;34m=\u001b[0m\u001b[0mlist_of_lists\u001b[0m\u001b[0;34m+\u001b[0m\u001b[0;34m[\u001b[0m\u001b[0;34m[\u001b[0m\u001b[0mint\u001b[0m\u001b[0;34m(\u001b[0m\u001b[0mi\u001b[0m\u001b[0;34m)\u001b[0m \u001b[0;32mfor\u001b[0m \u001b[0mi\u001b[0m \u001b[0;32min\u001b[0m \u001b[0mdesired_array\u001b[0m\u001b[0;34m(\u001b[0m\u001b[0ma\u001b[0m\u001b[0;34m)\u001b[0m\u001b[0;34m]\u001b[0m\u001b[0;34m]\u001b[0m\u001b[0;34m\u001b[0m\u001b[0;34m\u001b[0m\u001b[0m\n\u001b[0m\u001b[1;32m      8\u001b[0m \u001b[0;31m#for a in desired_array:\u001b[0m\u001b[0;34m\u001b[0m\u001b[0;34m\u001b[0m\u001b[0;34m\u001b[0m\u001b[0m\n\u001b[1;32m      9\u001b[0m  \u001b[0;31m# b=b +[[int(i) for i in str(a)]]\u001b[0m\u001b[0;34m\u001b[0m\u001b[0;34m\u001b[0m\u001b[0;34m\u001b[0m\u001b[0m\n",
            "\u001b[0;31mTypeError\u001b[0m: 'list' object is not callable"
          ]
        }
      ]
    },
    {
      "cell_type": "code",
      "metadata": {
        "id": "jddd6HjbXUJe"
      },
      "source": [
        "def longestRepeatedSubstring(str): \n",
        "  \n",
        "    n = len(str) \n",
        "    LCSRe = [[0 for x in range(n + 1)]  \n",
        "                for y in range(n + 1)] \n",
        "  \n",
        "    res = \"\" # To store result \n",
        "    res_length = 0 # To store length of result \n",
        "  \n",
        "    # building table in bottom-up manner \n",
        "    index = 0\n",
        "    for i in range(1, n + 1): \n",
        "        for j in range(i + 1, n + 1): \n",
        "              \n",
        "            # (j-i) > LCSRe[i-1][j-1] to remove \n",
        "            # overlapping \n",
        "            if (str[i - 1] == str[j - 1] and\n",
        "                LCSRe[i - 1][j - 1] < (j - i)): \n",
        "                LCSRe[i][j] = LCSRe[i - 1][j - 1] + 1\n",
        "  \n",
        "                # updating maximum length of the \n",
        "                # substring and updating the finishing \n",
        "                # index of the suffix \n",
        "                if (LCSRe[i][j] > res_length): \n",
        "                    res_length = LCSRe[i][j] \n",
        "                    index = max(i, index) \n",
        "                else: \n",
        "                    LCSRe[i][j] = 0\n",
        "  \n",
        "    # If we have non-empty result, then insert  \n",
        "    # all characters from first character to  \n",
        "    # last character of string \n",
        "    if (res_length > 0): \n",
        "        for i in range(index - res_length + 1, \n",
        "                                    index + 1): \n",
        "            res = res + str[i - 1] \n",
        "  \n",
        "    return res "
      ],
      "execution_count": 99,
      "outputs": []
    },
    {
      "cell_type": "code",
      "metadata": {
        "id": "9rwLS0oVXeqE",
        "outputId": "55441f7b-671a-4f8d-8f02-99c56e34824f",
        "colab": {
          "base_uri": "https://localhost:8080/"
        }
      },
      "source": [
        "if __name__ == \"__main__\": \n",
        "      \n",
        "    str = \"geeksforgeeks\"\n",
        "    print(longestRepeatedSubstring(str)) "
      ],
      "execution_count": 100,
      "outputs": [
        {
          "output_type": "stream",
          "text": [
            "geeks\n"
          ],
          "name": "stdout"
        }
      ]
    },
    {
      "cell_type": "code",
      "metadata": {
        "id": "IUnNRvpnlDRH",
        "outputId": "7c039701-d3dd-4b79-e4fd-35dbe542c4ce",
        "colab": {
          "base_uri": "https://localhost:8080/"
        }
      },
      "source": [
        "def longestRepeatedSubstring(str): \n",
        "  \n",
        "    n = len(str) \n",
        "    LCSRe = [[0 for x in range(n + 1)] for y in range(n + 1)] \n",
        "                \n",
        "  \n",
        "    res = \"\" # To store result \n",
        "    res_length = 0 # To store length of result \n",
        "  \n",
        "    # building table in bottom-up manner \n",
        "    index = 0\n",
        "    for i in range(1, n + 1): \n",
        "        for j in range(i + 1, n + 1): \n",
        "              \n",
        "            # (j-i) > LCSRe[i-1][j-1] to remove \n",
        "            # overlapping \n",
        "            if (str[i - 1] == str[j - 1] and LCSRe[i - 1][j - 1] < (j - i)): \n",
        "                \n",
        "                LCSRe[i][j] = LCSRe[i - 1][j - 1] + 1\n",
        "            if (LCSRe[i][j] > res_length): \n",
        "                    res_length = LCSRe[i][j] \n",
        "                    index = max(i, index) \n",
        "                  \n",
        "            else: \n",
        "                LCSRe[i][j] = 0\n",
        "  \n",
        "    # If we have non-empty result, then insert  \n",
        "    # all characters from first character to  \n",
        "    # last character of string \n",
        "    if (res_length > 0): \n",
        "        for i in range(index - res_length + 1, index + 1): \n",
        "                                    \n",
        "            res = res + str[i - 1] \n",
        "  \n",
        "    return res \n",
        "\n",
        "\n",
        "print(longestRepeatedSubstring(input()))"
      ],
      "execution_count": 14,
      "outputs": [
        {
          "output_type": "stream",
          "text": [
            "aaaabaaaa\n",
            "a\n"
          ],
          "name": "stdout"
        }
      ]
    },
    {
      "cell_type": "code",
      "metadata": {
        "id": "cafAZyOZlOM8",
        "outputId": "0c1d717a-d0f0-4a83-b785-9f6e04276014",
        "colab": {
          "base_uri": "https://localhost:8080/"
        }
      },
      "source": [
        "if __name__ == \"__main__\": \n",
        "      \n",
        "    str = \"geeksforgeeks\"\n",
        "    print(longestRepeatedSubstring(str)) "
      ],
      "execution_count": 10,
      "outputs": [
        {
          "output_type": "stream",
          "text": [
            "geeks\n"
          ],
          "name": "stdout"
        }
      ]
    },
    {
      "cell_type": "code",
      "metadata": {
        "id": "0EK5134K5LmF",
        "outputId": "8dfd3387-1905-4343-f562-d0472984e125",
        "colab": {
          "base_uri": "https://localhost:8080/"
        }
      },
      "source": [
        "n=3\n",
        "def findLongestFromACell(i, j, mat, dp): \n",
        "    # Base case  \n",
        "    if (i<0 or i>= n or j<0 or j>= n): \n",
        "        return 0\n",
        "    \n",
        "    # If this subproblem is already solved  \n",
        "    if (dp[i][j] != -1):  \n",
        "        return dp[i][j] \n",
        "  \n",
        "    # To store the path lengths in all the four directions \n",
        "    x, y, z, w = -1, -1, -1, -1\n",
        "  \n",
        "    # Since all numbers are unique and in range from 1 to n * n,  \n",
        "    # there is atmost one possible direction from any cell  \n",
        "    if (j<n-1 and ((mat[i][j] +1) == mat[i][j + 1])): \n",
        "        x = 1 + findLongestFromACell(i, j + 1, mat, dp) \n",
        "  \n",
        "    if (j>0 and (mat[i][j] +1 == mat[i][j-1])):  \n",
        "        y = 1 + findLongestFromACell(i, j-1, mat, dp) \n",
        "  \n",
        "    if (i>0 and (mat[i][j] +1 == mat[i-1][j])): \n",
        "        z = 1 + findLongestFromACell(i-1, j, mat, dp) \n",
        "  \n",
        "    if (i<n-1 and (mat[i][j] +1 == mat[i + 1][j])): \n",
        "        w = 1 + findLongestFromACell(i + 1, j, mat, dp) \n",
        "  \n",
        "    # If none of the adjacent fours is one greater we will take 1 \n",
        "    # otherwise we will pick maximum from all the four directions \n",
        "    dp[i][j] = max(x, max(y, max(z, max(w, 1)))) \n",
        "    return dp[i][j] \n",
        "\n",
        "\n",
        "def SearchingChallenge(strArr): \n",
        "    result = 1 # Initialize result  \n",
        "    \n",
        "    # Create a lookup table and fill all entries in it as -1  \n",
        "    dp =[[-1 for i in range(n)]for i in range(n)] \n",
        "    X = strArr\n",
        "    Y = [list(word) for word in strArr]\n",
        "\n",
        "    list_of_lists=[]\n",
        "    for lists in Y:\n",
        "       lists= list(map(int, lists))\n",
        "       list_of_lists.append(lists)\n",
        "    import numpy\n",
        "    mat=numpy.array(list_of_lists)\n",
        "    mxn=list(mat.shape)\n",
        "    # Compute longest path beginning from all cells  \n",
        "    for i in range(n): \n",
        "        for j in range(n): \n",
        "            if (dp[i][j] == -1): \n",
        "                findLongestFromACell(i, j, mat, dp) \n",
        "            # Update result if needed  \n",
        "            result = max(result, dp[i][j]);  \n",
        "    return result \n",
        "\n",
        "\n",
        "strArr=[\"1234\", \"1234\", \"1234\"]\n",
        "print(\"Length of the longest path is \", SearchingChallenge(strArr)) "
      ],
      "execution_count": 19,
      "outputs": [
        {
          "output_type": "stream",
          "text": [
            "Length of the longest path is  3\n"
          ],
          "name": "stdout"
        }
      ]
    }
  ]
}